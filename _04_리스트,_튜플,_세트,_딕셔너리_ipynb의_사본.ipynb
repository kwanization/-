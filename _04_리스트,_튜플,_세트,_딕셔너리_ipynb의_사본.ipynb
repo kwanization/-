{
  "nbformat": 4,
  "nbformat_minor": 0,
  "metadata": {
    "colab": {
      "provenance": [],
      "toc_visible": true,
      "include_colab_link": true
    },
    "kernelspec": {
      "name": "python3",
      "display_name": "Python 3"
    }
  },
  "cells": [
    {
      "cell_type": "markdown",
      "metadata": {
        "id": "view-in-github",
        "colab_type": "text"
      },
      "source": [
        "<a href=\"https://colab.research.google.com/github/kwanization/PPS/blob/main/_04_%EB%A6%AC%EC%8A%A4%ED%8A%B8%2C_%ED%8A%9C%ED%94%8C%2C_%EC%84%B8%ED%8A%B8%2C_%EB%94%95%EC%85%94%EB%84%88%EB%A6%AC_ipynb%EC%9D%98_%EC%82%AC%EB%B3%B8.ipynb\" target=\"_parent\"><img src=\"https://colab.research.google.com/assets/colab-badge.svg\" alt=\"Open In Colab\"/></a>"
      ]
    },
    {
      "cell_type": "markdown",
      "metadata": {
        "id": "bg5ZXMV2sn1M"
      },
      "source": [
        "# 리스트, 튜플, 세트, 딕셔너리"
      ]
    },
    {
      "cell_type": "markdown",
      "metadata": {
        "id": "Lj_iZPKnCRP0"
      },
      "source": [
        "\n",
        "\n",
        "---\n",
        "\n"
      ]
    },
    {
      "cell_type": "markdown",
      "metadata": {
        "id": "aKsMBDZohTu4"
      },
      "source": [
        "## 리스트(List)\n",
        "\n"
      ]
    },
    {
      "cell_type": "code",
      "metadata": {
        "id": "qLh1E-1_hxR_",
        "colab": {
          "base_uri": "https://localhost:8080/"
        },
        "outputId": "60ca6880-8363-4943-a936-b9e55d0d6582"
      },
      "source": [
        "print([])\n",
        "print([1, 2, 3,])\n",
        "print(['one', 'two', 'three'])\n",
        "print([1, 'one', 2, 'two', 3, 'three'])\n",
        "print([1, 2, 3, [ 'one', 'two', 'three'] ])"
      ],
      "execution_count": null,
      "outputs": [
        {
          "output_type": "stream",
          "name": "stdout",
          "text": [
            "[]\n",
            "[1, 2, 3]\n",
            "['one', 'two', 'three']\n",
            "[1, 'one', 2, 'two', 3, 'three']\n",
            "[1, 2, 3, ['one', 'two', 'three']]\n"
          ]
        }
      ]
    },
    {
      "cell_type": "markdown",
      "metadata": {
        "id": "YApkWxX_Yo7K"
      },
      "source": [
        "### 리스트 인덱싱(List Indexing)\n",
        "\n",
        "* 리스트의 각 위치에 해당하는 값에 접근하기 위해서 주소 개념의 숫자를 사용"
      ]
    },
    {
      "cell_type": "code",
      "metadata": {
        "id": "DapQSgP4ZEM_",
        "colab": {
          "base_uri": "https://localhost:8080/"
        },
        "outputId": "4848e23c-7c33-4d1f-ab99-64564bfea8a8"
      },
      "source": [
        "list = ['one', 'two', 'three']\n",
        "print(list)\n",
        "print(list[0])\n",
        "print(list[1])\n",
        "print(list[2])\n",
        "print(list[-1])\n",
        "print(list[-2])\n",
        "print(list[-3])"
      ],
      "execution_count": null,
      "outputs": [
        {
          "output_type": "stream",
          "name": "stdout",
          "text": [
            "['one', 'two', 'three']\n",
            "one\n",
            "two\n",
            "three\n",
            "three\n",
            "two\n",
            "one\n"
          ]
        }
      ]
    },
    {
      "cell_type": "markdown",
      "metadata": {
        "id": "zudx4zfHdAvz"
      },
      "source": [
        "### 중첩 리스트 인덱싱(Nested List Indexing)\n",
        "\n",
        "* 리스트 안에 리스트가 있을 경우 인덱스 접근 방법"
      ]
    },
    {
      "cell_type": "code",
      "source": [],
      "metadata": {
        "id": "SeC5hdBk1Gye"
      },
      "execution_count": null,
      "outputs": []
    },
    {
      "cell_type": "code",
      "source": [],
      "metadata": {
        "id": "7Q9UrAMD1GwK"
      },
      "execution_count": null,
      "outputs": []
    },
    {
      "cell_type": "code",
      "metadata": {
        "id": "4-AbAyBsdiu4",
        "colab": {
          "base_uri": "https://localhost:8080/"
        },
        "outputId": "f33757c7-6e16-41c6-e6ee-2da5a5d8d808"
      },
      "source": [
        "list = ([1, 2, 3, [ 'one', 'two', 'three'] ])\n",
        "print(list)\n",
        "print(list[3])\n",
        "print(list[3][0])\n",
        "print(list[3][1])\n",
        "print(list[3][2])"
      ],
      "execution_count": 3,
      "outputs": [
        {
          "output_type": "stream",
          "name": "stdout",
          "text": [
            "[1, 2, 3, ['one', 'two', 'three']]\n",
            "['one', 'two', 'three']\n",
            "one\n",
            "two\n",
            "three\n"
          ]
        }
      ]
    },
    {
      "cell_type": "markdown",
      "metadata": {
        "id": "qYff3UXAd_gZ"
      },
      "source": [
        "### 리스트 슬라이싱(List Slicing)\n",
        "\n",
        "* 리스트의 인덱스를 통해서 부분만 가져올 때 사용"
      ]
    },
    {
      "cell_type": "code",
      "metadata": {
        "id": "XV6YtlM8eFZ7",
        "colab": {
          "base_uri": "https://localhost:8080/"
        },
        "outputId": "e6fc4c94-d3cd-4453-d7e5-fb765c544311"
      },
      "source": [
        "list = (['one', 'two', 'three'])\n",
        "print(list)\n",
        "print(list[0:1])\n",
        "print(list[1:2])\n",
        "print(list[1:])"
      ],
      "execution_count": 5,
      "outputs": [
        {
          "output_type": "stream",
          "name": "stdout",
          "text": [
            "['one', 'two', 'three']\n",
            "['one']\n",
            "['two']\n",
            "['two', 'three']\n"
          ]
        }
      ]
    },
    {
      "cell_type": "markdown",
      "metadata": {
        "id": "7BBUTCoWfRFY"
      },
      "source": [
        "### 중첩 리스트 슬라이싱(Nested List Slicing)\n",
        "\n",
        "* 중첩된 리스트에서 일부분만 인덱스를 통해서 가져올 때 사용"
      ]
    },
    {
      "cell_type": "code",
      "metadata": {
        "id": "KXqdQhpminGG",
        "colab": {
          "base_uri": "https://localhost:8080/"
        },
        "outputId": "93004256-9482-4725-877c-48c2e023a642"
      },
      "source": [
        "list = ([1, 2, 3, [ 'one', 'two', 'three'] ])\n",
        "print(list)\n",
        "print(list[2:4])\n",
        "print(list[3][2:])\n",
        "print(list[3][:2])"
      ],
      "execution_count": 9,
      "outputs": [
        {
          "output_type": "stream",
          "name": "stdout",
          "text": [
            "[1, 2, 3, ['one', 'two', 'three']]\n",
            "[3, ['one', 'two', 'three']]\n",
            "['three']\n",
            "['one', 'two']\n"
          ]
        }
      ]
    },
    {
      "cell_type": "markdown",
      "metadata": {
        "id": "q_9BaaINjg2l"
      },
      "source": [
        "### 리스트 연산자/함수(List Operators/Function)\n",
        "\n",
        "* 더하기 + 연산자\n",
        "* 곱하기 * 연산자\n",
        "* 리스트 길이를 구하는 `len()` 함수"
      ]
    },
    {
      "cell_type": "code",
      "metadata": {
        "id": "iylo3yUBjpBW",
        "colab": {
          "base_uri": "https://localhost:8080/"
        },
        "outputId": "d7373312-6409-44d6-857a-f9815c4b5564"
      },
      "source": [
        "list_1 = ['one', 'two', 'three']\n",
        "list_2 = ['four', 'five', 'six']\n",
        "print(list_1)\n",
        "print(list_2)\n",
        "print(list_1 + list_2)\n",
        "print(list_1 * 3)\n",
        "print(len(list_1))\n",
        "print(len(list_1 * 3))"
      ],
      "execution_count": 11,
      "outputs": [
        {
          "output_type": "stream",
          "name": "stdout",
          "text": [
            "['one', 'two', 'three']\n",
            "['four', 'five', 'six']\n",
            "['one', 'two', 'three', 'four', 'five', 'six']\n",
            "['one', 'two', 'three', 'one', 'two', 'three', 'one', 'two', 'three']\n",
            "3\n",
            "9\n"
          ]
        }
      ]
    },
    {
      "cell_type": "markdown",
      "metadata": {
        "id": "XTQWWsI7j-g0"
      },
      "source": [
        "### 리스트 수정(List Modify)\n",
        "\n",
        "* 리스트 인덱스 주소를 이용한 값 수정"
      ]
    },
    {
      "cell_type": "code",
      "metadata": {
        "id": "ZAvCJXhPkDIN",
        "colab": {
          "base_uri": "https://localhost:8080/"
        },
        "outputId": "6c843223-09b2-4764-a310-79bb872c9a2b"
      },
      "source": [
        "list = ['one', 'two', 'three']\n",
        "print(list)\n",
        "list[2] = 3\n",
        "print(list)\n",
        "list[1] = 2\n",
        "print(list)\n",
        "list[0] = 1\n",
        "\n",
        "print(list)"
      ],
      "execution_count": 14,
      "outputs": [
        {
          "output_type": "stream",
          "name": "stdout",
          "text": [
            "['one', 'two', 'three']\n",
            "['one', 'two', 3]\n",
            "['one', 2, 3]\n",
            "[1, 2, 3]\n"
          ]
        }
      ]
    },
    {
      "cell_type": "markdown",
      "metadata": {
        "id": "OolpuGcLlHrs"
      },
      "source": [
        "### 리스트 메소드(List Methods)\n"
      ]
    },
    {
      "cell_type": "markdown",
      "metadata": {
        "id": "m5xHM2-jlQh3"
      },
      "source": [
        "#### append()\n",
        "\n",
        "* 리스트 요소 추가"
      ]
    },
    {
      "cell_type": "code",
      "metadata": {
        "id": "8AaEGUxSlU_a",
        "colab": {
          "base_uri": "https://localhost:8080/"
        },
        "outputId": "fc8c0886-b7be-49b5-b1aa-4b5b9b665f6a"
      },
      "source": [
        "list = ['one', 'two', 'three']\n",
        "list.append('four')\n",
        "print(list)\n",
        "list.append([1, 2, 3, 4])\n",
        "print(list)"
      ],
      "execution_count": 15,
      "outputs": [
        {
          "output_type": "stream",
          "name": "stdout",
          "text": [
            "['one', 'two', 'three', 'four']\n",
            "['one', 'two', 'three', 'four', [1, 2, 3, 4]]\n"
          ]
        }
      ]
    },
    {
      "cell_type": "markdown",
      "metadata": {
        "id": "sIkoHvkJmQjD"
      },
      "source": [
        "#### sort()\n",
        "\n",
        "* 리스트 정렬"
      ]
    },
    {
      "cell_type": "code",
      "metadata": {
        "id": "XxCsua37mU7R",
        "colab": {
          "base_uri": "https://localhost:8080/"
        },
        "outputId": "70c55486-6b48-44e4-b6de-abef8f48ceaf"
      },
      "source": [
        "list = [10, 40, 20, 30]\n",
        "print(list)\n",
        "list.sort()\n",
        "print(list)\n",
        "list = ['orange', 'apple', 'banana', 'strawberry']\n",
        "print(list)\n",
        "list.sort()\n",
        "print(list)\n",
        "list = ['오렌지', '애플', '바나나', '스트로베리']\n",
        "list.sort()\n",
        "?"
      ],
      "execution_count": 24,
      "outputs": [
        {
          "output_type": "stream",
          "name": "stdout",
          "text": [
            "[10, 40, 20, 30]\n",
            "[10, 20, 30, 40]\n",
            "['orange', 'apple', 'banana', 'strawberry']\n",
            "['apple', 'banana', 'orange', 'strawberry']\n"
          ]
        }
      ]
    },
    {
      "cell_type": "markdown",
      "metadata": {
        "id": "YdfEfFUEmmBZ"
      },
      "source": [
        "#### reverse()\n",
        "\n",
        "* 리스트 요소 반전"
      ]
    },
    {
      "cell_type": "code",
      "metadata": {
        "id": "gaqQQwm0mrAs",
        "colab": {
          "base_uri": "https://localhost:8080/"
        },
        "outputId": "ba471654-e023-4e14-878e-7a77c30d5fb3"
      },
      "source": [
        "list = ['orange', 'apple', 'banana', 'strawberry']\n",
        "print(list)\n",
        "list.reverse()\n",
        "print(list)"
      ],
      "execution_count": 25,
      "outputs": [
        {
          "output_type": "stream",
          "name": "stdout",
          "text": [
            "['orange', 'apple', 'banana', 'strawberry']\n",
            "['strawberry', 'banana', 'apple', 'orange']\n"
          ]
        }
      ]
    },
    {
      "cell_type": "markdown",
      "metadata": {
        "id": "B9GFsndRnwor"
      },
      "source": [
        "#### index()\n",
        "\n",
        "* 리스트의 요소 값에 대한 인덱스를 반환"
      ]
    },
    {
      "cell_type": "code",
      "metadata": {
        "id": "xs1Nlc_Hn1S3",
        "colab": {
          "base_uri": "https://localhost:8080/"
        },
        "outputId": "f5bcaeef-43ba-44e2-9ec7-4c1f65815a34"
      },
      "source": [
        "list = [10, 40, 20, 30]\n",
        "print(list)\n",
        "print(list.index(10))\n",
        "print(list.index(20))"
      ],
      "execution_count": 26,
      "outputs": [
        {
          "output_type": "stream",
          "name": "stdout",
          "text": [
            "[10, 40, 20, 30]\n",
            "0\n",
            "2\n"
          ]
        }
      ]
    },
    {
      "cell_type": "markdown",
      "metadata": {
        "id": "nSuJKFcUn9UK"
      },
      "source": [
        "#### insert()\n",
        "\n",
        "* 리스트 요소 삽입"
      ]
    },
    {
      "cell_type": "code",
      "metadata": {
        "id": "3crOTMcLoAdE",
        "colab": {
          "base_uri": "https://localhost:8080/"
        },
        "outputId": "d7f56c24-bc66-4069-9217-8efd59dbc207"
      },
      "source": [
        "list = [10, 40, 20, 30]\n",
        "print(list)\n",
        "list.insert(4, 50)\n",
        "print(list)\n",
        "list.insert(0, 60)\n",
        "print(list)\n"
      ],
      "execution_count": 28,
      "outputs": [
        {
          "output_type": "stream",
          "name": "stdout",
          "text": [
            "[10, 40, 20, 30]\n",
            "[10, 40, 20, 30, 50]\n",
            "[60, 10, 40, 20, 30, 50]\n"
          ]
        }
      ]
    },
    {
      "cell_type": "markdown",
      "metadata": {
        "id": "u9_0Hh5NyXXh"
      },
      "source": [
        "#### remove()\n",
        "\n",
        "* 리스트 요소 제거"
      ]
    },
    {
      "cell_type": "code",
      "metadata": {
        "id": "55jgJF1ZyjIp",
        "colab": {
          "base_uri": "https://localhost:8080/"
        },
        "outputId": "886181b8-056f-412a-8b43-be860784048b"
      },
      "source": [
        "list = [10, 40, 20, 30]\n",
        "print(list)\n",
        "list.remove(40)\n",
        "print(list)\n",
        "list.remove(30)\n",
        "print(list)\n",
        "\n"
      ],
      "execution_count": 29,
      "outputs": [
        {
          "output_type": "stream",
          "name": "stdout",
          "text": [
            "[10, 40, 20, 30]\n",
            "[10, 20, 30]\n",
            "[10, 20]\n"
          ]
        }
      ]
    },
    {
      "cell_type": "markdown",
      "metadata": {
        "id": "XE2VEcqyywE4"
      },
      "source": [
        "#### del\n",
        "\n",
        "* 리스트 요소 제거 연산\n",
        "\n",
        "값에 대한 접근이 아닌, 인덱스에 접근함\n",
        "\n",
        "위치값이 바뀜. 주의해야 함"
      ]
    },
    {
      "cell_type": "code",
      "metadata": {
        "id": "AMDGcMSTy7RO",
        "colab": {
          "base_uri": "https://localhost:8080/"
        },
        "outputId": "b305a58b-2cd3-4bde-dc0b-017721747441"
      },
      "source": [
        "list = [10, 40, 20, 30]\n",
        "print(list)\n",
        "del list[0]\n",
        "print(list)\n",
        "del list[2]\n",
        "print(list)"
      ],
      "execution_count": 30,
      "outputs": [
        {
          "output_type": "stream",
          "name": "stdout",
          "text": [
            "[10, 40, 20, 30]\n",
            "[40, 20, 30]\n",
            "[40, 20]\n"
          ]
        }
      ]
    },
    {
      "cell_type": "markdown",
      "metadata": {
        "id": "0R1KumQ8zPqj"
      },
      "source": [
        "#### pop()\n",
        "\n",
        "* 리스트 요소를 방출"
      ]
    },
    {
      "cell_type": "code",
      "metadata": {
        "id": "AES7G1e-za4k",
        "colab": {
          "base_uri": "https://localhost:8080/"
        },
        "outputId": "88de8471-5285-47fa-c698-3308acd39937"
      },
      "source": [
        "list = [10, 40, 20, 30]\n",
        "print(list)\n",
        "list.pop()\n",
        "print(list)\n",
        "list.pop(0)\n",
        "print(list)"
      ],
      "execution_count": 31,
      "outputs": [
        {
          "output_type": "stream",
          "name": "stdout",
          "text": [
            "[10, 40, 20, 30]\n",
            "[10, 40, 20]\n",
            "[40, 20]\n"
          ]
        }
      ]
    },
    {
      "cell_type": "markdown",
      "metadata": {
        "id": "BnKMoBtrzkUP"
      },
      "source": [
        "#### count()\n",
        "\n",
        "* 리스트 요소의 갯수 계산"
      ]
    },
    {
      "cell_type": "code",
      "metadata": {
        "id": "iv13N4uWznsm",
        "colab": {
          "base_uri": "https://localhost:8080/"
        },
        "outputId": "4659b3f7-c899-4222-e97a-e7441b16d5b2"
      },
      "source": [
        "list = [10, 20, 20, 30, 30, 30]\n",
        "print(list)\n",
        "print(list.count(30))\n",
        "print(list.count(20))"
      ],
      "execution_count": 34,
      "outputs": [
        {
          "output_type": "stream",
          "name": "stdout",
          "text": [
            "[10, 20, 20, 30, 30, 30]\n",
            "3\n",
            "2\n"
          ]
        }
      ]
    },
    {
      "cell_type": "markdown",
      "metadata": {
        "id": "sI87ApvJzxcM"
      },
      "source": [
        "#### extend()\n",
        "\n",
        "* 리스트 확장\n",
        "\n",
        "list.extend(0,[70])\n",
        "print(list)\n",
        "\n",
        ">>> ??"
      ]
    },
    {
      "cell_type": "code",
      "metadata": {
        "id": "0q944_Znz0XJ",
        "colab": {
          "base_uri": "https://localhost:8080/"
        },
        "outputId": "5b49d0fc-cf1f-4d31-8676-4c952e265e8b"
      },
      "source": [
        "list = [10, 40, 20, 30]\n",
        "print(list)\n",
        "list.extend([50, 60])\n",
        "print(list)"
      ],
      "execution_count": 39,
      "outputs": [
        {
          "output_type": "stream",
          "name": "stdout",
          "text": [
            "[10, 40, 20, 30]\n",
            "[10, 40, 20, 30, 50, 60]\n"
          ]
        }
      ]
    },
    {
      "cell_type": "markdown",
      "metadata": {
        "id": "PzXHy8FxoW5l"
      },
      "source": [
        "\n",
        "\n",
        "---\n",
        "\n"
      ]
    },
    {
      "cell_type": "markdown",
      "metadata": {
        "id": "d38eO6_roX5E"
      },
      "source": [
        "## 튜플(Tuple)\n",
        "\n",
        "* 리스트와 유사하지만 변경 불가능한 시퀀스 자료형\n",
        "* 하나의 변수에 여러 값 할당 가능\n",
        "* ‘(‘와 ‘)’를 사용하여 표현"
      ]
    },
    {
      "cell_type": "code",
      "metadata": {
        "id": "1s9_Z7hQ0Ft0",
        "colab": {
          "base_uri": "https://localhost:8080/"
        },
        "outputId": "295cbbc9-c3e2-4bbc-eb45-a5035a5e15c7"
      },
      "source": [
        "print(())\n",
        "print((1, 2, 3))\n",
        "print(('one', 'two', 'three'))\n",
        "print((1, 'one', 2, 'two', 3, 'three'))\n",
        "print((1, 2, 3, ('one', 'two', 'three')))"
      ],
      "execution_count": 42,
      "outputs": [
        {
          "output_type": "stream",
          "name": "stdout",
          "text": [
            "()\n",
            "(1, 2, 3)\n",
            "('one', 'two', 'three')\n",
            "(1, 'one', 2, 'two', 3, 'three')\n",
            "(1, 2, 3, ('one', 'two', 'three'))\n"
          ]
        }
      ]
    },
    {
      "cell_type": "markdown",
      "metadata": {
        "id": "e3TE7eO00UKJ"
      },
      "source": [
        "### 튜플 인덱싱(Tuple Indexing)\n",
        "\n",
        "* 튜플의 각 위치에 해당하는 값에 접근하기 위해서 주소 개념의 숫자를 사용"
      ]
    },
    {
      "cell_type": "code",
      "metadata": {
        "id": "_usfNdhc0a_7",
        "colab": {
          "base_uri": "https://localhost:8080/"
        },
        "outputId": "82d0bb62-22d2-4426-d668-968ec9f584a4"
      },
      "source": [
        "tuple = ('one', 'two', 'three')\n",
        "print(tuple)\n",
        "print(tuple[0])\n",
        "print(tuple[-1])"
      ],
      "execution_count": 43,
      "outputs": [
        {
          "output_type": "stream",
          "name": "stdout",
          "text": [
            "('one', 'two', 'three')\n",
            "one\n",
            "three\n"
          ]
        }
      ]
    },
    {
      "cell_type": "markdown",
      "metadata": {
        "id": "bFGXVZ8-05z2"
      },
      "source": [
        "### 중첩 튜플 인덱싱(Nested Tuple Indexing)\n",
        "\n",
        "* 튜플 안에 튜플이 중첩되어 있을 경우, 인덱스 접근 방법"
      ]
    },
    {
      "cell_type": "code",
      "metadata": {
        "id": "eq996H91097z",
        "colab": {
          "base_uri": "https://localhost:8080/"
        },
        "outputId": "886fad5b-b549-48fd-dfa5-7d7ad38fbf26"
      },
      "source": [
        "tuple = (1, 2, 3, ('one', 'two', 'three'))\n",
        "print(tuple)\n",
        "print(tuple[3])\n",
        "print(tuple[3][1])\n"
      ],
      "execution_count": 44,
      "outputs": [
        {
          "output_type": "stream",
          "name": "stdout",
          "text": [
            "(1, 2, 3, ('one', 'two', 'three'))\n",
            "('one', 'two', 'three')\n",
            "two\n"
          ]
        }
      ]
    },
    {
      "cell_type": "markdown",
      "metadata": {
        "id": "nYYF6L223714"
      },
      "source": [
        "### 튜플 슬라이싱(Tuple Slicing)\n",
        "\n",
        "* 튜플의 인덱스를 통해서 부분만 가져올 때 사용"
      ]
    },
    {
      "cell_type": "code",
      "metadata": {
        "id": "J0lgz4SR67d8",
        "colab": {
          "base_uri": "https://localhost:8080/"
        },
        "outputId": "6b9fd3b4-1cd6-4283-bab2-bca8f226af14"
      },
      "source": [
        "tuple = ('one', 'two', 'three')\n",
        "print(tuple)\n",
        "print(tuple[0:1])\n",
        "print(tuple[1:2])\n",
        "print(tuple[1:])"
      ],
      "execution_count": 45,
      "outputs": [
        {
          "output_type": "stream",
          "name": "stdout",
          "text": [
            "('one', 'two', 'three')\n",
            "('one',)\n",
            "('two',)\n",
            "('two', 'three')\n"
          ]
        }
      ]
    },
    {
      "cell_type": "markdown",
      "metadata": {
        "id": "ddlDZ-iH7JI0"
      },
      "source": [
        "### 중첩 튜플 슬라이싱(Nested Tuple Slicing)\n",
        "\n",
        "* 중첩된 튜플에서 일부분만 인덱스를 통해서 가져올 때 사용"
      ]
    },
    {
      "cell_type": "code",
      "metadata": {
        "id": "2GeXCqV37Nc3",
        "colab": {
          "base_uri": "https://localhost:8080/"
        },
        "outputId": "7d40c52e-b644-435a-c515-367b08074059"
      },
      "source": [
        "tuple = (1, 2, 3, ('one', 'two', 'three'))\n",
        "print(tuple)\n",
        "print(tuple[3])\n",
        "print(tuple[3][1:])\n",
        "print(tuple[3][:2])"
      ],
      "execution_count": 50,
      "outputs": [
        {
          "output_type": "stream",
          "name": "stdout",
          "text": [
            "(1, 2, 3, ('one', 'two', 'three'))\n",
            "('one', 'two', 'three')\n",
            "('two', 'three')\n",
            "('one', 'two')\n"
          ]
        }
      ]
    },
    {
      "cell_type": "markdown",
      "metadata": {
        "id": "V7H6n4Ps7u5M"
      },
      "source": [
        "### 튜플 연산자/함수(Tuple Operators/Function)\n",
        "\n",
        "* 더하기 + 연산\n",
        "* 곱하기 * 연산\n",
        "* 튜플 길이를 구하는 `len()` 함수\n",
        "\n"
      ]
    },
    {
      "cell_type": "code",
      "metadata": {
        "id": "QJstv3_T9LiY",
        "colab": {
          "base_uri": "https://localhost:8080/"
        },
        "outputId": "8905b169-8d89-4acb-ff04-159e2eba4bc5"
      },
      "source": [
        "tuple_1 = ('one', 'two', 'three')\n",
        "tuple_2 = ('four', 'five', 'six')\n",
        "print(tuple_1)\n",
        "print(tuple_2)\n",
        "print(tuple_1 + tuple_2)\n",
        "print(tuple_1 * 3)\n",
        "print(len(tuple_1))\n",
        "print(len(tuple_1 + tuple_2))"
      ],
      "execution_count": 52,
      "outputs": [
        {
          "output_type": "stream",
          "name": "stdout",
          "text": [
            "('one', 'two', 'three')\n",
            "('four', 'five', 'six')\n",
            "('one', 'two', 'three', 'four', 'five', 'six')\n",
            "('one', 'two', 'three', 'one', 'two', 'three', 'one', 'two', 'three')\n",
            "3\n",
            "6\n"
          ]
        }
      ]
    },
    {
      "cell_type": "markdown",
      "metadata": {
        "id": "-drrAXi3xY3y"
      },
      "source": [
        "\n",
        "\n",
        "---\n",
        "\n"
      ]
    },
    {
      "cell_type": "markdown",
      "metadata": {
        "id": "zXbENjlMCrkU"
      },
      "source": [
        "## 세트(Set)\n",
        "\n",
        "* 데이터 중복을 허용하지 않는 구조\n",
        "* 순서가 없는 데이터 집합을 위한 구조\n",
        "* 인덱싱으로 값을 접근할 수 없음"
      ]
    },
    {
      "cell_type": "code",
      "metadata": {
        "id": "Rqyuh9dNC_FZ",
        "colab": {
          "base_uri": "https://localhost:8080/"
        },
        "outputId": "ff030c8b-93b9-4387-cd6a-b89fabc948fe"
      },
      "source": [
        "print({})\n",
        "print({'one', 'two', 'three'})\n",
        "print({10, 20, 30, 40})"
      ],
      "execution_count": 56,
      "outputs": [
        {
          "output_type": "stream",
          "name": "stdout",
          "text": [
            "{}\n",
            "{'one', 'two', 'three'}\n",
            "{40, 10, 20, 30}\n"
          ]
        }
      ]
    },
    {
      "cell_type": "markdown",
      "metadata": {
        "id": "QerabWfwCvtt"
      },
      "source": [
        "### 세트 연산자(Set Operators)\n",
        "\n",
        "* 교집합: &\n",
        "* 합집합: |\n",
        "* 차집합: -\n",
        "* 여집합: ^"
      ]
    },
    {
      "cell_type": "code",
      "metadata": {
        "id": "22ALZ21LE60j",
        "colab": {
          "base_uri": "https://localhost:8080/"
        },
        "outputId": "df701f2d-6085-4bab-907d-f8e6f9e55e6f"
      },
      "source": [
        "set_1 = {10, 20, 20, 30}\n",
        "set_2 = {30, 30, 40, 50}\n",
        "print(set_1)\n",
        "print(set_2)\n",
        "print(set_1 & set_2)\n",
        "print(set_1 | set_2)\n",
        "print(set_1 - set_2)\n",
        "print(set_1 ^ set_2)"
      ],
      "execution_count": 58,
      "outputs": [
        {
          "output_type": "stream",
          "name": "stdout",
          "text": [
            "{10, 20, 30}\n",
            "{40, 50, 30}\n",
            "{30}\n",
            "{50, 20, 40, 10, 30}\n",
            "{10, 20}\n",
            "{40, 10, 50, 20}\n"
          ]
        }
      ]
    },
    {
      "cell_type": "markdown",
      "metadata": {
        "id": "of4Jq8l-McX7"
      },
      "source": [
        "### 세트 메소드(Set Methods)\n",
        "\n",
        "* 교집합: intersection()\n",
        "* 합집합: union()\n",
        "* 차집합: difference()\n",
        "* 여집합: symmetric_difference()"
      ]
    },
    {
      "cell_type": "code",
      "metadata": {
        "id": "w4JB__zpL_BW",
        "colab": {
          "base_uri": "https://localhost:8080/"
        },
        "outputId": "ef8a337c-5278-43cd-96a4-e6e86d12dec1"
      },
      "source": [
        "set_1 = {10, 20, 20, 30}\n",
        "set_2 = {30, 30, 40, 50}\n",
        "print(set_1)\n",
        "print(set_2)\n",
        "print(set_1.intersection(set_2))\n",
        "print(set_1.union(set_2))\n",
        "print(set_1.difference(set_2))\n",
        "print(set_1.symmetric_difference(set_2))\n",
        "\n"
      ],
      "execution_count": 61,
      "outputs": [
        {
          "output_type": "stream",
          "name": "stdout",
          "text": [
            "{10, 20, 30}\n",
            "{40, 50, 30}\n",
            "{30}\n",
            "{50, 20, 40, 10, 30}\n",
            "{10, 20}\n",
            "{40, 10, 50, 20}\n"
          ]
        }
      ]
    },
    {
      "cell_type": "markdown",
      "metadata": {
        "id": "lcdJvb_vFiKf"
      },
      "source": [
        "* 요소 추가: add()\n",
        "* 여러 요소 추가: update()\n",
        "* 요소 제거: remove()\n",
        "* 요소 제거: discard()\n",
        "* 모든 요소 제거: clear()"
      ]
    },
    {
      "cell_type": "code",
      "metadata": {
        "id": "xlo8NoTeF0dV",
        "colab": {
          "base_uri": "https://localhost:8080/"
        },
        "outputId": "ec2ee637-8651-451f-bf8a-de6a97ef1ab3"
      },
      "source": [
        "set = {10, 20, 30, 40}\n",
        "print(set)\n",
        "\n",
        "set.add(50)\n",
        "print(set)\n",
        "\n",
        "set.update([60, 70])\n",
        "print(set)\n",
        "\n",
        "set.remove(70)\n",
        "set.remove(60)\n",
        "print(set)\n",
        "\n",
        "set.discard(30)\n",
        "print(set)\n",
        "\n",
        "set.clear()\n",
        "print(set)"
      ],
      "execution_count": 63,
      "outputs": [
        {
          "output_type": "stream",
          "name": "stdout",
          "text": [
            "{40, 10, 20, 30}\n",
            "{40, 10, 50, 20, 30}\n",
            "{70, 40, 10, 50, 20, 60, 30}\n",
            "{40, 10, 50, 20, 30}\n",
            "{40, 10, 50, 20}\n",
            "set()\n"
          ]
        }
      ]
    },
    {
      "cell_type": "markdown",
      "metadata": {
        "id": "0BWIlqrPCr__"
      },
      "source": [
        "\n",
        "\n",
        "---\n",
        "\n"
      ]
    },
    {
      "cell_type": "markdown",
      "metadata": {
        "id": "ZfKg8LniN113"
      },
      "source": [
        "## 딕셔너리(Dictionary)\n",
        "\n",
        "* 키(key)와 값(value)의 쌍으로 구성된 데이터\n",
        "* 순서가 없는 데이터\n",
        "* 키를 통해 값을 얻음\n",
        "* 동일한 키가 있을경우 덮어씀"
      ]
    },
    {
      "cell_type": "code",
      "metadata": {
        "id": "Ij33VNSGN7_D",
        "colab": {
          "base_uri": "https://localhost:8080/"
        },
        "outputId": "76b2878e-f6b8-46ce-83ff-f1877ad7151b"
      },
      "source": [
        "dic = {1:'one', 2:'two', 3:'three'}\n",
        "print(dic)\n",
        "\n",
        "dic = {1:'one', 2:'two', 3:'three', 1:'one', 2:'two', 3:'three'}\n",
        "print(dic)"
      ],
      "execution_count": 67,
      "outputs": [
        {
          "output_type": "stream",
          "name": "stdout",
          "text": [
            "{1: 'one', 2: 'two', 3: 'three'}\n",
            "{1: 'one', 2: 'two', 3: 'three'}\n"
          ]
        }
      ]
    },
    {
      "cell_type": "markdown",
      "metadata": {
        "id": "Vq8tORypPmPX"
      },
      "source": [
        "### 딕셔너리 요소 추가/삭제\n",
        "\n",
        "* 딕셔너리의 해당 키 값에 값을 추가하여 요소 추가\n",
        "* del을 이용하여 요소 제거\n",
        "\n",
        "[ ] 는 인덱스 값이 아니라, 키값"
      ]
    },
    {
      "cell_type": "code",
      "metadata": {
        "id": "zjBqbHUhPjUX",
        "colab": {
          "base_uri": "https://localhost:8080/"
        },
        "outputId": "f470bfaa-c352-4164-a6b3-969ba487065c"
      },
      "source": [
        "dic = {1:'one', 2:'two', 3:'three'}\n",
        "print(dic)\n",
        "print(dic[2])\n",
        "\n",
        "dic[4] = 'four'\n",
        "print(dic)\n",
        "dic[5] = 'five'\n",
        "print(dic)\n",
        "\n",
        "del dic[4]\n",
        "print(dic)\n",
        "\n",
        "dic[3] = '고관'\n"
      ],
      "execution_count": 73,
      "outputs": [
        {
          "output_type": "stream",
          "name": "stdout",
          "text": [
            "{1: 'one', 2: 'two', 3: 'three'}\n",
            "two\n",
            "{1: 'one', 2: 'two', 3: 'three', 4: 'four'}\n",
            "{1: 'one', 2: 'two', 3: 'three', 4: 'four', 5: 'five'}\n",
            "{1: 'one', 2: 'two', 3: 'three', 5: 'five'}\n"
          ]
        }
      ]
    },
    {
      "cell_type": "markdown",
      "metadata": {
        "id": "SlUKOt2tSatr"
      },
      "source": [
        "### 딕셔너리 메소드(Dictionary Methods)\n"
      ]
    },
    {
      "cell_type": "code",
      "metadata": {
        "id": "JjF0-2zFP4vN",
        "colab": {
          "base_uri": "https://localhost:8080/"
        },
        "outputId": "e7c00d57-ec03-4ff4-bd03-3272f46f7a70"
      },
      "source": [
        "dic = {1:'one', 2:'two', 3:'three'}\n",
        "print(dic)\n",
        "print(dic.keys())\n",
        "print(dic.values())\n",
        "print(dic.items())\n",
        "print(dic.get(2))\n",
        "print(dic.pop(3))\n",
        "print(dic)\n",
        "dic.clear()\n",
        "print(dic)"
      ],
      "execution_count": 80,
      "outputs": [
        {
          "output_type": "stream",
          "name": "stdout",
          "text": [
            "{1: 'one', 2: 'two', 3: 'three'}\n",
            "dict_keys([1, 2, 3])\n",
            "dict_values(['one', 'two', 'three'])\n",
            "dict_items([(1, 'one'), (2, 'two'), (3, 'three')])\n",
            "two\n",
            "three\n",
            "{1: 'one', 2: 'two'}\n",
            "{}\n"
          ]
        }
      ]
    },
    {
      "cell_type": "code",
      "metadata": {
        "id": "rn9piBODYUj_"
      },
      "source": [],
      "execution_count": null,
      "outputs": []
    }
  ]
}