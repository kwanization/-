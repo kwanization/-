{
  "nbformat": 4,
  "nbformat_minor": 0,
  "metadata": {
    "colab": {
      "provenance": [],
      "toc_visible": true,
      "include_colab_link": true
    },
    "kernelspec": {
      "name": "python3",
      "display_name": "Python 3"
    }
  },
  "cells": [
    {
      "cell_type": "markdown",
      "metadata": {
        "id": "view-in-github",
        "colab_type": "text"
      },
      "source": [
        "<a href=\"https://colab.research.google.com/github/kwanization/PPS/blob/main/_08_%EA%B0%9D%EC%B2%B4%EC%99%80_%ED%81%B4%EB%9E%98%EC%8A%A4.ipynb\" target=\"_parent\"><img src=\"https://colab.research.google.com/assets/colab-badge.svg\" alt=\"Open In Colab\"/></a>"
      ]
    },
    {
      "cell_type": "markdown",
      "metadata": {
        "id": "bg5ZXMV2sn1M"
      },
      "source": [
        "# 객체와 클래스\n",
        "\n",
        "\n",
        "클래스(Class): 어떤 것을 만들기 위한 설계도. 예) Animal 클래스.\n",
        "\n",
        "객체(Object): 클래스 설계도를 바탕으로 만들어진 실제 사물. 예) cat, dog.\n",
        "\n",
        "속성(Attribute): 객체가 가지는 특성. 예) 이름(name), 소리(sound).\n",
        "\n",
        "메서드(Method): 객체가 할 수 있는 행동. 예) make_sound()."
      ]
    },
    {
      "cell_type": "markdown",
      "metadata": {
        "id": "Lj_iZPKnCRP0"
      },
      "source": [
        "\n",
        "\n",
        "---\n",
        "\n"
      ]
    },
    {
      "cell_type": "markdown",
      "metadata": {
        "id": "zXbENjlMCrkU"
      },
      "source": [
        "## 객체(Object)\n",
        "\n"
      ]
    },
    {
      "cell_type": "markdown",
      "metadata": {
        "id": "41GeF0a5KMPU"
      },
      "source": [
        "### 객체 지향 프로그래밍(Object Oriented Programming)\n",
        "\n"
      ]
    },
    {
      "cell_type": "markdown",
      "metadata": {
        "id": "qQc_0nwV1YyE"
      },
      "source": [
        "## 클래스(Class)\n",
        "\n"
      ]
    },
    {
      "cell_type": "markdown",
      "metadata": {
        "id": "u91KX7n6K1Qx"
      },
      "source": [
        "### Book 클래스 정의\n",
        "\n",
        "* 클래스 이름: Book\n",
        "* 속성\n",
        "  + 저자: author\n",
        "  + 책 이름: name\n",
        "  + 출판사: publisher\n",
        "  + 발행일: date\n",
        "\n"
      ]
    },
    {
      "cell_type": "code",
      "metadata": {
        "id": "VIauKM25w6Aw"
      },
      "source": [
        "class Book(object):\n",
        "  author = \"\"\n",
        "  title = \"\"\n",
        "  publisher = \"\"\n",
        "  date = \"\"\n"
      ],
      "execution_count": null,
      "outputs": []
    },
    {
      "cell_type": "code",
      "metadata": {
        "id": "oboUm_0ZmkwC",
        "colab": {
          "base_uri": "https://localhost:8080/"
        },
        "outputId": "4ff67b8b-6a06-4489-d637-37160b20e27a"
      },
      "source": [
        "book = Book()\n",
        "book.author = \"Suan\"\n",
        "print(book.author)\n",
        "book.title = \"Python Programming\"\n",
        "print(book.title)"
      ],
      "execution_count": null,
      "outputs": [
        {
          "output_type": "stream",
          "name": "stdout",
          "text": [
            "Suan\n",
            "Python Programming\n"
          ]
        }
      ]
    },
    {
      "cell_type": "markdown",
      "metadata": {
        "id": "b0ybpBx4B-NI"
      },
      "source": [
        "### Book 클래스 메소드 정의\n",
        "\n",
        "* 메소드\n",
        "  + 책 정보 출력: `print_info(self)`\n",
        "  + `self`가 있어야만 실제로 인스턴스가 사용할 수 있는 메소드로 선언\n",
        "  + `print_info(self)`에서 `self`는 실제적으로 `book` 인스턴스를 의미\n",
        "  + 메소드 안에서 속성 값을 사용하지 않을 경우에는 `self` 생략 가능"
      ]
    },
    {
      "cell_type": "code",
      "metadata": {
        "id": "bvq4rgKACKGh"
      },
      "source": [
        "class Book(object):\n",
        "  author = \"\"\n",
        "  title = \"\"\n",
        "  publisher = \"\"\n",
        "  date = \"\"\n",
        "\n",
        "  def print_info(self):\n",
        "    print(\"Author:\", self.author)\n",
        "    print(\"Title:\", self.title)"
      ],
      "execution_count": null,
      "outputs": []
    },
    {
      "cell_type": "code",
      "metadata": {
        "id": "QLYRU__lmoQx",
        "colab": {
          "base_uri": "https://localhost:8080/"
        },
        "outputId": "1411111d-20d8-4c72-d913-4414f224c202"
      },
      "source": [
        "book = Book()\n",
        "book.author = \"Suan\"\n",
        "book.title = \"Python Programming\"\n",
        "book.print_info()"
      ],
      "execution_count": null,
      "outputs": [
        {
          "output_type": "stream",
          "name": "stdout",
          "text": [
            "Author: Suan\n",
            "Title: Python Programming\n"
          ]
        }
      ]
    },
    {
      "cell_type": "markdown",
      "metadata": {
        "id": "8x-oWtbBxCpE"
      },
      "source": [
        "## 인스턴스 속성(Instance Attribute)\n",
        "\n",
        "* 인스턴스 속성은 객체로부터 인스턴스가 생성된 후에 인스턴스에서 활용하는 속성\n",
        "\n",
        "\n"
      ]
    },
    {
      "cell_type": "markdown",
      "metadata": {
        "id": "GbFr5qM78B41"
      },
      "source": [
        "### Book 인스턴스 속성\n",
        "\n",
        "* `Book` 클래스에서 생성된 인스턴스 `b1`에서 속성을 활용"
      ]
    },
    {
      "cell_type": "code",
      "metadata": {
        "id": "A25zZg3vjmk0"
      },
      "source": [
        "class Book(object):\n",
        "  author = \"\"\n",
        "  title = \"\"\n",
        "  publisher = \"\"\n",
        "  date = \"\"\n",
        "\n",
        "  def print_info(self):\n",
        "    print(\"Author:\", self.author)\n",
        "    print(\"Title:\", self.title)\n",
        "    print(\"Publisher:\", self.publisher)\n",
        "    print(\"Date:\", self.date)"
      ],
      "execution_count": null,
      "outputs": []
    },
    {
      "cell_type": "code",
      "metadata": {
        "id": "h-Ja0er-oZpe",
        "colab": {
          "base_uri": "https://localhost:8080/"
        },
        "outputId": "8352d778-6851-4853-f2b0-11e4b81ce1b9"
      },
      "source": [
        "b1 = Book()\n",
        "b1.author = \"Suan\"\n",
        "b1.title = \"Python Programming\"\n",
        "b1.publisher = \"Colab\"\n",
        "b1.date = \"2020\"\n",
        "b1.print_info()"
      ],
      "execution_count": null,
      "outputs": [
        {
          "output_type": "stream",
          "name": "stdout",
          "text": [
            "Author: Suan\n",
            "Title: Python Programming\n",
            "Publisher: Colab\n",
            "Date: 2020\n"
          ]
        }
      ]
    },
    {
      "cell_type": "markdown",
      "metadata": {
        "id": "QJg6wYdSHKFh"
      },
      "source": [
        "## 클래스 속성(Class Attribute)\n",
        "\n",
        "* 클래스 속성은 클래스 자체에서 사용되는 속성\n",
        "\n",
        "\n"
      ]
    },
    {
      "cell_type": "markdown",
      "metadata": {
        "id": "vCwxB_lyIv5D"
      },
      "source": [
        "### Book 클래스 속성\n",
        "\n",
        "* Book 클래스 자체에서 사용되는 속성\n",
        "\n"
      ]
    },
    {
      "cell_type": "code",
      "metadata": {
        "id": "YH4BbYHookXd"
      },
      "source": [
        "class Book(object):\n",
        "  author = \"\"\n",
        "  title = \"\"\n",
        "  publisher = \"\"\n",
        "  date = \"\"\n",
        "\n",
        "  def print_info(self):\n",
        "    print(\"Author:\", self.author)\n",
        "    print(\"Title:\", self.title)\n",
        "    print(\"Publisher:\", self.publisher)\n",
        "    print(\"Date:\", self.date)"
      ],
      "execution_count": null,
      "outputs": []
    },
    {
      "cell_type": "code",
      "metadata": {
        "id": "YBLwbRcrogBc",
        "colab": {
          "base_uri": "https://localhost:8080/"
        },
        "outputId": "80df5ea0-fe9c-46bc-f9b8-1d5cd974e109"
      },
      "source": [
        "b1 = Book()\n",
        "b1.author = \"Su\"\n",
        "Book.author = \"Suan\"\n",
        "Book.title = \"Python Programming\"\n",
        "Book.publisher = \"Colab\"\n",
        "Book.date = \"2020\"\n",
        "b1.print_info()"
      ],
      "execution_count": 15,
      "outputs": [
        {
          "output_type": "stream",
          "name": "stdout",
          "text": [
            "Author: Su\n",
            "Title: Python Programming\n",
            "Publisher: Colab\n",
            "Date: 2020\n"
          ]
        }
      ]
    },
    {
      "cell_type": "markdown",
      "metadata": {
        "id": "5rb7_sHfotYO"
      },
      "source": [
        "## 인스턴스 속성와 클래스 속성의 활용\n",
        "\n",
        "* 인스턴스 속성과 클래스 속성을 목적에 맞도록 나누어서 활용\n",
        "\n",
        "인스턴스 속성과 클래스 속성은 사실 다름(?)\n",
        "\n"
      ]
    },
    {
      "cell_type": "markdown",
      "metadata": {
        "id": "jp55uMrGpYsv"
      },
      "source": [
        "### Book 인스턴스 속성과 클래스 속성\n",
        "\n",
        "* 인스턴스 속성\n",
        "  + 저자: author\n",
        "  + 제목: title\n",
        "  + 출판사: publisher\n",
        "  + 발행일: date\n",
        "* 클래스 속성\n",
        "  + 수량: count"
      ]
    },
    {
      "cell_type": "code",
      "metadata": {
        "id": "6FJ2zFwepLrv"
      },
      "source": [
        "class Book(object):\n",
        "  author = \"\"\n",
        "  title = \"\"\n",
        "  publisher = \"\"\n",
        "  date = \"\"\n",
        "  count = 0\n",
        "\n",
        "  def print_info(self):\n",
        "    print(\"Author:\", self.author)\n",
        "    print(\"Title:\", self.title)\n",
        "    print(\"Publisher:\", self.publisher)\n",
        "    print(\"Date:\", self.date)"
      ],
      "execution_count": null,
      "outputs": []
    },
    {
      "cell_type": "code",
      "metadata": {
        "id": "QidaPjC2pthz",
        "colab": {
          "base_uri": "https://localhost:8080/"
        },
        "outputId": "320270ef-c397-4692-81b7-59daa09afc59"
      },
      "source": [
        "b1 = Book()\n",
        "Book.count += 1\n",
        "b1.author = \"Suan\"\n",
        "b1.title = \"Python Programming\"\n",
        "b1.publisher = \"Colab\"\n",
        "b1.date = \"2020\"\n",
        "b1.print_info()\n",
        "print(\"Number of Books:\", str(Book.count))"
      ],
      "execution_count": 18,
      "outputs": [
        {
          "output_type": "stream",
          "name": "stdout",
          "text": [
            "Author: Suan\n",
            "Title: Python Programming\n",
            "Publisher: Colab\n",
            "Date: 2020\n",
            "Number of Books: 3\n"
          ]
        }
      ]
    },
    {
      "cell_type": "markdown",
      "metadata": {
        "id": "wfmzBAGRBtWi"
      },
      "source": [
        "## 클래스 매직 메소드(Class Masic Methods)\n"
      ]
    },
    {
      "cell_type": "markdown",
      "metadata": {
        "id": "EZwYD92qt4gh"
      },
      "source": [
        "### `__init__()`\n",
        "\n",
        "* `__init__()` 메소드를 이용하여 클래스의 속성들을 초기화"
      ]
    },
    {
      "cell_type": "code",
      "metadata": {
        "id": "_nq6-s-qBwio"
      },
      "source": [
        "class Book(object):\n",
        "  count = 0\n",
        "\n",
        "  def __init__(self, author, title, publisher, date):\n",
        "    self.author = author\n",
        "    self.title = title\n",
        "    self.publisher = publisher\n",
        "    self.date = date\n",
        "    Book.count += 1\n",
        "\n",
        "\n",
        "  def print_info(self):\n",
        "    print(\"Author:\", self.author)\n",
        "    print(\"Title:\", self.title)\n",
        "    print(\"Publisher:\", self.publisher)\n",
        "    print(\"Date:\", self.date)"
      ],
      "execution_count": 26,
      "outputs": []
    },
    {
      "cell_type": "code",
      "metadata": {
        "id": "oQknTy7Mul4a",
        "colab": {
          "base_uri": "https://localhost:8080/"
        },
        "outputId": "4bc7309b-a134-4c7d-e900-4865fe179b0a"
      },
      "source": [
        "book = Book(\"Suan\", \"Python Programming\", \"Colab\", \"2020\")\n",
        "book.print_info()\n",
        "print(\"Number of Books:\", str(Book.count))"
      ],
      "execution_count": 27,
      "outputs": [
        {
          "output_type": "stream",
          "name": "stdout",
          "text": [
            "<__main__.Book object at 0x7f2eb5844d60>\n",
            "Number of Books: 1\n"
          ]
        }
      ]
    },
    {
      "cell_type": "markdown",
      "metadata": {
        "id": "gTRPQI5cu_vU"
      },
      "source": [
        "### `__str__()`\n",
        "\n",
        "* `__str__()` 메소드를 이용하여 인스턴스 출력"
      ]
    },
    {
      "cell_type": "code",
      "metadata": {
        "id": "QYd5z8z2vIq2"
      },
      "source": [
        "class Book(object):\n",
        "  count = 0\n",
        "\n",
        "  def __init__(self, author, title, publisher, date):\n",
        "    self.author = author\n",
        "    self.title = title\n",
        "    self.publisher = publisher\n",
        "    self.date = date\n",
        "    Book.count += 1\n",
        "\n",
        "\n",
        "  def __str__(self):\n",
        "    return (\"Author:\" + self.author + \\\n",
        "            \"\\nTitle:\" + self.title + \\\n",
        "            \"\\nPublisher:\" + self.publisher + \\\n",
        "            \"\\nDate:\" + self.date)"
      ],
      "execution_count": 28,
      "outputs": []
    },
    {
      "cell_type": "code",
      "metadata": {
        "id": "eECQWpfkvimX",
        "colab": {
          "base_uri": "https://localhost:8080/"
        },
        "outputId": "9f9ad16d-a4b9-4d96-b4ff-320ad01ac4fb"
      },
      "source": [
        "book = Book(\"Suan\", \"Python Programming\", \"Colab\", \"2020\")\n",
        "print(book)\n",
        "print(\"Number of Books:\", str(Book.count))"
      ],
      "execution_count": 29,
      "outputs": [
        {
          "output_type": "stream",
          "name": "stdout",
          "text": [
            "Author:Suan\n",
            "Title:Python Programming\n",
            "Publisher:Colab\n",
            "Date:2020\n",
            "Number of Books: 1\n"
          ]
        }
      ]
    },
    {
      "cell_type": "markdown",
      "metadata": {
        "id": "400E5EtqwBq3"
      },
      "source": [
        "### 매직 메소드 예제\n",
        "\n",
        "* Line 클래스"
      ]
    },
    {
      "cell_type": "code",
      "metadata": {
        "id": "XFXm9WwCwcUD"
      },
      "source": [
        "class Line(object):\n",
        "  length = 0\n",
        "\n",
        "  def __init__(self, length):\n",
        "    self.length = length\n",
        "    print(self.length, \"길이의 선 생성\")\n",
        "\n",
        "  def __del__(self):\n",
        "    print(self.length, \"길이의 선 제거\")\n",
        "\n",
        "  def __repr__(self):\n",
        "    return str(self.length)\n",
        "\n",
        "  def __add__(self, other):\n",
        "    return self.length + other.length\n",
        "\n",
        "  def __lt__(self, other):\n",
        "    return self.length < other.length\n",
        "\n",
        "  def __le__(self, other):\n",
        "    return self.length <= other.length\n",
        "\n",
        "  def __gt__(self, other):\n",
        "    return self.length > other.length\n",
        "\n",
        "  def __ge__(self, other):\n",
        "    return self.length >= other.length\n",
        "\n",
        "  def __eq__(self, other):\n",
        "    return self.length == other.length\n",
        "\n",
        "  def __ne__(self, other):\n",
        "    return self.length != other.length\n",
        "\n"
      ],
      "execution_count": 34,
      "outputs": []
    },
    {
      "cell_type": "code",
      "metadata": {
        "id": "nFThopZjxPRK",
        "colab": {
          "base_uri": "https://localhost:8080/"
        },
        "outputId": "50825269-28bb-4816-9a13-dfa3a2f6b92c"
      },
      "source": [
        "l1 = Line(10)\n",
        "print(l1)\n",
        "\n",
        "\n",
        "l2 = Line(20)\n",
        "print(l2)\n",
        "\n",
        "print(\"선의 합:\", l1 + l2)\n",
        "\n",
        "if l1 < l2:\n",
        "  print(l1, '<', l2)\n",
        "elif l1 <= l2:\n",
        "  print(l1, '<=', l2)\n",
        "elif l1 > l2:\n",
        "  print(l1, '>', l2)\n",
        "elif l1 >= l2:\n",
        "  print(l1, '>=', l2)\n",
        "elif l1 == l2:\n",
        "  print(l1, '==', l2)\n",
        "elif l1 != l2:\n",
        "  print(l1, '!=', l2)\n",
        "else:\n",
        "  pass\n"
      ],
      "execution_count": 35,
      "outputs": [
        {
          "output_type": "stream",
          "name": "stdout",
          "text": [
            "10 길이의 선 생성\n",
            "10\n",
            "20 길이의 선 생성\n",
            "20\n",
            "선의 합: 30\n",
            "10 < 20\n",
            "10 길이의 선 제거\n",
            "20 길이의 선 제거\n"
          ]
        }
      ]
    },
    {
      "cell_type": "markdown",
      "metadata": {
        "id": "7rnSGoFCxvKK"
      },
      "source": [
        "### 가시성 예제\n",
        "\n",
        "* `__items` 속성은 Box 객체 외부에서 보이지 않도록 캡슐화와 정보 은닉이 가능\n",
        "* 외부에서 `__items` 속성에 접근하면 속성 오류 발생"
      ]
    },
    {
      "cell_type": "code",
      "metadata": {
        "id": "DTrIbq53x3ZI"
      },
      "source": [
        "class Box(object):\n",
        "  def __init__(self, name):\n",
        "    self.name = name\n",
        "    self.__items = []\n",
        "\n",
        "  def add_item(self, item):\n",
        "    self.__items.append(item)\n",
        "    print(\"아이템 추가\")\n",
        "\n",
        "  def get_number_of_items(self):\n",
        "    return len(self.__items)"
      ],
      "execution_count": 38,
      "outputs": []
    },
    {
      "cell_type": "code",
      "metadata": {
        "id": "AU5wHppgyLbh",
        "colab": {
          "base_uri": "https://localhost:8080/",
          "height": 276
        },
        "outputId": "7d7c0352-be89-4c11-de3b-257bea6c7c2b"
      },
      "source": [
        "box = Box(\"Box\")\n",
        "box.add_item(\"Item1\")\n",
        "box.add_item(\"Item2\")\n",
        "box.add_item(\"Item3\")\n",
        "print(box.name)\n",
        "print(box.__items)\n",
        "print(box.get_number_of_items())"
      ],
      "execution_count": 43,
      "outputs": [
        {
          "output_type": "stream",
          "name": "stdout",
          "text": [
            "아이템 추가\n",
            "아이템 추가\n",
            "아이템 추가\n",
            "Box\n"
          ]
        },
        {
          "output_type": "error",
          "ename": "AttributeError",
          "evalue": "'Box' object has no attribute '__items'",
          "traceback": [
            "\u001b[0;31m---------------------------------------------------------------------------\u001b[0m",
            "\u001b[0;31mAttributeError\u001b[0m                            Traceback (most recent call last)",
            "\u001b[0;32m<ipython-input-43-5e8437c7d64c>\u001b[0m in \u001b[0;36m<cell line: 6>\u001b[0;34m()\u001b[0m\n\u001b[1;32m      4\u001b[0m \u001b[0mbox\u001b[0m\u001b[0;34m.\u001b[0m\u001b[0madd_item\u001b[0m\u001b[0;34m(\u001b[0m\u001b[0;34m\"Item3\"\u001b[0m\u001b[0;34m)\u001b[0m\u001b[0;34m\u001b[0m\u001b[0;34m\u001b[0m\u001b[0m\n\u001b[1;32m      5\u001b[0m \u001b[0mprint\u001b[0m\u001b[0;34m(\u001b[0m\u001b[0mbox\u001b[0m\u001b[0;34m.\u001b[0m\u001b[0mname\u001b[0m\u001b[0;34m)\u001b[0m\u001b[0;34m\u001b[0m\u001b[0;34m\u001b[0m\u001b[0m\n\u001b[0;32m----> 6\u001b[0;31m \u001b[0mprint\u001b[0m\u001b[0;34m(\u001b[0m\u001b[0mbox\u001b[0m\u001b[0;34m.\u001b[0m\u001b[0m__items\u001b[0m\u001b[0;34m)\u001b[0m\u001b[0;34m\u001b[0m\u001b[0;34m\u001b[0m\u001b[0m\n\u001b[0m\u001b[1;32m      7\u001b[0m \u001b[0mprint\u001b[0m\u001b[0;34m(\u001b[0m\u001b[0mbox\u001b[0m\u001b[0;34m.\u001b[0m\u001b[0mget_number_of_items\u001b[0m\u001b[0;34m(\u001b[0m\u001b[0;34m)\u001b[0m\u001b[0;34m)\u001b[0m\u001b[0;34m\u001b[0m\u001b[0;34m\u001b[0m\u001b[0m\n",
            "\u001b[0;31mAttributeError\u001b[0m: 'Box' object has no attribute '__items'"
          ]
        }
      ]
    },
    {
      "cell_type": "markdown",
      "metadata": {
        "id": "Gid0aLGUBx9D"
      },
      "source": [
        "## 클래스 상속(Class Inheritance)\n"
      ]
    },
    {
      "cell_type": "code",
      "metadata": {
        "id": "QFIEB2XP1XsW"
      },
      "source": [
        "class SuperClass(object):\n",
        "  pass\n",
        "\n",
        "class SubClass(SuperClass):\n",
        "  pass"
      ],
      "execution_count": null,
      "outputs": []
    },
    {
      "cell_type": "markdown",
      "metadata": {
        "id": "YILvez-k05pV"
      },
      "source": [
        "### 메소드 오버라이딩(Method Overriding)\n",
        "\n",
        "\n"
      ]
    },
    {
      "cell_type": "code",
      "metadata": {
        "id": "np_aylDHzSXs"
      },
      "source": [
        "class SuperClass(object):\n",
        "  def method(self):\n",
        "    print('정지은')\n",
        "\n",
        "class SubClass1(SuperClass):\n",
        "  def method(self):\n",
        "    print(\"Method Overriding\")\n",
        "\n",
        "class SubClass2(SuperClass):\n",
        "  pass"
      ],
      "execution_count": 49,
      "outputs": []
    },
    {
      "cell_type": "code",
      "metadata": {
        "id": "HCPloTpu2tJf",
        "colab": {
          "base_uri": "https://localhost:8080/"
        },
        "outputId": "e385cde4-b02b-4ff9-ab76-d5a6053a5f58"
      },
      "source": [
        "sub1 = SubClass1()\n",
        "sub2 = SubClass2()\n",
        "\n",
        "sub1.method()\n"
      ],
      "execution_count": 53,
      "outputs": [
        {
          "output_type": "stream",
          "name": "stdout",
          "text": [
            "Method Overriding\n"
          ]
        }
      ]
    },
    {
      "cell_type": "code",
      "source": [
        "sub2.method()"
      ],
      "metadata": {
        "colab": {
          "base_uri": "https://localhost:8080/"
        },
        "id": "47f0s0fwk7QE",
        "outputId": "6bca8bff-97a6-4cbd-f2b4-3f9fec6d76ea"
      },
      "execution_count": 54,
      "outputs": [
        {
          "output_type": "stream",
          "name": "stdout",
          "text": [
            "정지은\n"
          ]
        }
      ]
    },
    {
      "cell_type": "markdown",
      "metadata": {
        "id": "5JcJXHiUyqmt"
      },
      "source": [
        "### 클래스 상속, 메소드 오버라이딩 예제\n",
        "\n",
        "* Vehicle 클래스를 상속받아 Car 클래스와 Truck 클래스 생성\n",
        "* Car 클래스와 Truck 클래스는 up_speed 메소드를 오버라이딩\n",
        "* Car 클래스는 속도가 240 초과되면 240으로 조정\n",
        "* Truck 클래스는 속도가 180 초과되면 180으로 조정"
      ]
    },
    {
      "cell_type": "code",
      "metadata": {
        "id": "WAQOF_BcB2ww"
      },
      "source": [
        "class Vehicle(object):\n",
        "  speed = 0\n",
        "  def up_speed(self, value):\n",
        "    self.speed += value\n",
        "\n",
        "  def down_speed(self, value):\n",
        "    self.speed -= value\n",
        "\n",
        "  def print_speed(self):\n",
        "    print(\"speed:\", str(self.speed))\n",
        "\n",
        "class Car(Vehicle):\n",
        "  def up_speed(self, value):\n",
        "    self.speed += value\n",
        "    if self.speed > 240: self.speed = 240\n",
        "\n",
        "\n",
        "class Truck(Vehicle):\n",
        "  def up_speed(self, value):\n",
        "    self.speed += value\n",
        "    if self.speed > 180: self.speed = 180\n"
      ],
      "execution_count": null,
      "outputs": []
    },
    {
      "cell_type": "code",
      "metadata": {
        "id": "xjlG-ZDM3tXw",
        "colab": {
          "base_uri": "https://localhost:8080/"
        },
        "outputId": "443c566b-972d-4631-d2c6-f5b7959d25d1"
      },
      "source": [
        "car = Car()\n",
        "car.up_speed(300)\n",
        "car.print_speed()\n",
        "\n",
        "truck = Truck()\n",
        "truck.up_speed(200)\n",
        "truck.print_speed()"
      ],
      "execution_count": null,
      "outputs": [
        {
          "output_type": "stream",
          "name": "stdout",
          "text": [
            "speed: 240\n",
            "speed: 180\n"
          ]
        }
      ]
    },
    {
      "cell_type": "code",
      "source": [],
      "metadata": {
        "id": "ZY6zdq-UKlWQ"
      },
      "execution_count": null,
      "outputs": []
    }
  ]
}